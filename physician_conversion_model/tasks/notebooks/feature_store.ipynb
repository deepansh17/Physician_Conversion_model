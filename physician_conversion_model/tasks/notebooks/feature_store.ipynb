{
 "cells": [
  {
   "cell_type": "code",
   "execution_count": 1,
   "metadata": {},
   "outputs": [],
   "source": [
    "import hopsworks"
   ]
  },
  {
   "cell_type": "code",
   "execution_count": 2,
   "metadata": {},
   "outputs": [
    {
     "name": "stdout",
     "output_type": "stream",
     "text": [
      "Connected. Call `.close()` to terminate connection gracefully.\n",
      "\n",
      "Logged in to project, explore it here https://c.app.hopsworks.ai:443/p/115861\n"
     ]
    }
   ],
   "source": [
    "project = hopsworks.login(\n",
    "        api_key_value=\"Opj3Q11E9l2J6Gl5.cWuMNUBKBrRs7L966VMGIf2DMgrm753CJhZ93RxMTuW93a9fvC9fHzytjl3bnkME\",\n",
    "        project=\"MlopsLearning\",\n",
    "    )"
   ]
  },
  {
   "cell_type": "code",
   "execution_count": 3,
   "metadata": {},
   "outputs": [
    {
     "ename": "FeatureStoreException",
     "evalue": "Trying to instantiate Python as engine, but 'python' extras are missing in HSFS installation. Install with `pip install hsfs[python]`.",
     "output_type": "error",
     "traceback": [
      "\u001b[1;31m---------------------------------------------------------------------------\u001b[0m",
      "\u001b[1;31mImportError\u001b[0m                               Traceback (most recent call last)",
      "File \u001b[1;32me:\\Anaconda\\lib\\site-packages\\hsfs\\engine\\__init__.py:33\u001b[0m, in \u001b[0;36minit\u001b[1;34m(engine_type)\u001b[0m\n\u001b[0;32m     32\u001b[0m \u001b[39mtry\u001b[39;00m:\n\u001b[1;32m---> 33\u001b[0m     \u001b[39mfrom\u001b[39;00m \u001b[39mhsfs\u001b[39;00m\u001b[39m.\u001b[39;00m\u001b[39mengine\u001b[39;00m \u001b[39mimport\u001b[39;00m python\n\u001b[0;32m     34\u001b[0m \u001b[39mexcept\u001b[39;00m \u001b[39mImportError\u001b[39;00m:\n",
      "File \u001b[1;32me:\\Anaconda\\lib\\site-packages\\hsfs\\engine\\python.py:41\u001b[0m, in \u001b[0;36m<module>\u001b[1;34m\u001b[0m\n\u001b[0;32m     40\u001b[0m \u001b[39mfrom\u001b[39;00m \u001b[39mtyping\u001b[39;00m \u001b[39mimport\u001b[39;00m TypeVar, Optional, Dict, Any\n\u001b[1;32m---> 41\u001b[0m \u001b[39mfrom\u001b[39;00m \u001b[39mconfluent_kafka\u001b[39;00m \u001b[39mimport\u001b[39;00m Producer, KafkaError\n\u001b[0;32m     42\u001b[0m \u001b[39mfrom\u001b[39;00m \u001b[39mtqdm\u001b[39;00m\u001b[39m.\u001b[39;00m\u001b[39mauto\u001b[39;00m \u001b[39mimport\u001b[39;00m tqdm\n",
      "File \u001b[1;32me:\\Anaconda\\lib\\site-packages\\confluent_kafka\\__init__.py:40\u001b[0m, in \u001b[0;36m<module>\u001b[1;34m\u001b[0m\n\u001b[0;32m     20\u001b[0m \u001b[39m# end delvewheel patch\u001b[39;00m\n\u001b[0;32m     21\u001b[0m \n\u001b[0;32m     22\u001b[0m \u001b[39m#!/usr/bin/env python\u001b[39;00m\n\u001b[1;32m   (...)\u001b[0m\n\u001b[0;32m     37\u001b[0m \u001b[39m# limitations under the License.\u001b[39;00m\n\u001b[0;32m     38\u001b[0m \u001b[39m#\u001b[39;00m\n\u001b[1;32m---> 40\u001b[0m \u001b[39mfrom\u001b[39;00m \u001b[39m.\u001b[39;00m\u001b[39mdeserializing_consumer\u001b[39;00m \u001b[39mimport\u001b[39;00m DeserializingConsumer\n\u001b[0;32m     41\u001b[0m \u001b[39mfrom\u001b[39;00m \u001b[39m.\u001b[39;00m\u001b[39mserializing_producer\u001b[39;00m \u001b[39mimport\u001b[39;00m SerializingProducer\n",
      "File \u001b[1;32me:\\Anaconda\\lib\\site-packages\\confluent_kafka\\deserializing_consumer.py:19\u001b[0m, in \u001b[0;36m<module>\u001b[1;34m\u001b[0m\n\u001b[0;32m      1\u001b[0m \u001b[39m#!/usr/bin/env python\u001b[39;00m\n\u001b[0;32m      2\u001b[0m \u001b[39m# -*- coding: utf-8 -*-\u001b[39;00m\n\u001b[0;32m      3\u001b[0m \u001b[39m#\u001b[39;00m\n\u001b[1;32m   (...)\u001b[0m\n\u001b[0;32m     16\u001b[0m \u001b[39m# limitations under the License.\u001b[39;00m\n\u001b[0;32m     17\u001b[0m \u001b[39m#\u001b[39;00m\n\u001b[1;32m---> 19\u001b[0m \u001b[39mfrom\u001b[39;00m \u001b[39mconfluent_kafka\u001b[39;00m\u001b[39m.\u001b[39;00m\u001b[39mcimpl\u001b[39;00m \u001b[39mimport\u001b[39;00m Consumer \u001b[39mas\u001b[39;00m _ConsumerImpl\n\u001b[0;32m     20\u001b[0m \u001b[39mfrom\u001b[39;00m \u001b[39m.\u001b[39;00m\u001b[39merror\u001b[39;00m \u001b[39mimport\u001b[39;00m (ConsumeError,\n\u001b[0;32m     21\u001b[0m                     KeyDeserializationError,\n\u001b[0;32m     22\u001b[0m                     ValueDeserializationError)\n",
      "\u001b[1;31mImportError\u001b[0m: DLL load failed while importing cimpl: The specified module could not be found.",
      "\nDuring handling of the above exception, another exception occurred:\n",
      "\u001b[1;31mFeatureStoreException\u001b[0m                     Traceback (most recent call last)",
      "\u001b[1;32mf:\\Github\\Physician_Conversion_model\\physician_conversion_model\\tasks\\notebooks\\feature_store.ipynb Cell 3\u001b[0m line \u001b[0;36m<cell line: 1>\u001b[1;34m()\u001b[0m\n\u001b[1;32m----> <a href='vscode-notebook-cell:/f%3A/Github/Physician_Conversion_model/physician_conversion_model/tasks/notebooks/feature_store.ipynb#W2sZmlsZQ%3D%3D?line=0'>1</a>\u001b[0m fs \u001b[39m=\u001b[39m project\u001b[39m.\u001b[39;49mget_feature_store()\n",
      "File \u001b[1;32me:\\Anaconda\\lib\\site-packages\\hopsworks\\project.py:111\u001b[0m, in \u001b[0;36mProject.get_feature_store\u001b[1;34m(self)\u001b[0m\n\u001b[0;32m    109\u001b[0m _client \u001b[39m=\u001b[39m client\u001b[39m.\u001b[39mget_instance()\n\u001b[0;32m    110\u001b[0m \u001b[39mif\u001b[39;00m \u001b[39mtype\u001b[39m(_client) \u001b[39m==\u001b[39m Client:  \u001b[39m# If external client\u001b[39;00m\n\u001b[1;32m--> 111\u001b[0m     \u001b[39mreturn\u001b[39;00m connection(\n\u001b[0;32m    112\u001b[0m         host\u001b[39m=\u001b[39;49m_client\u001b[39m.\u001b[39;49m_host,\n\u001b[0;32m    113\u001b[0m         port\u001b[39m=\u001b[39;49m_client\u001b[39m.\u001b[39;49m_port,\n\u001b[0;32m    114\u001b[0m         project\u001b[39m=\u001b[39;49m\u001b[39mself\u001b[39;49m\u001b[39m.\u001b[39;49mname,\n\u001b[0;32m    115\u001b[0m         api_key_value\u001b[39m=\u001b[39;49m_client\u001b[39m.\u001b[39;49m_auth\u001b[39m.\u001b[39;49m_token,\n\u001b[0;32m    116\u001b[0m         engine\u001b[39m=\u001b[39;49m\u001b[39m\"\u001b[39;49m\u001b[39mpython\u001b[39;49m\u001b[39m\"\u001b[39;49m,\n\u001b[0;32m    117\u001b[0m     )\u001b[39m.\u001b[39mget_feature_store()\n\u001b[0;32m    118\u001b[0m \u001b[39melse\u001b[39;00m:\n\u001b[0;32m    119\u001b[0m     \u001b[39mreturn\u001b[39;00m connection()\u001b[39m.\u001b[39mget_feature_store()\n",
      "File \u001b[1;32me:\\Anaconda\\lib\\site-packages\\hsfs\\connection.py:335\u001b[0m, in \u001b[0;36mConnection.connection\u001b[1;34m(cls, host, port, project, engine, region_name, secrets_store, hostname_verification, trust_store_path, cert_folder, api_key_file, api_key_value)\u001b[0m\n\u001b[0;32m    319\u001b[0m \u001b[39m@classmethod\u001b[39m\n\u001b[0;32m    320\u001b[0m \u001b[39mdef\u001b[39;00m \u001b[39mconnection\u001b[39m(\n\u001b[0;32m    321\u001b[0m     \u001b[39mcls\u001b[39m,\n\u001b[1;32m   (...)\u001b[0m\n\u001b[0;32m    332\u001b[0m     api_key_value: \u001b[39mstr\u001b[39m \u001b[39m=\u001b[39m \u001b[39mNone\u001b[39;00m,\n\u001b[0;32m    333\u001b[0m ):\n\u001b[0;32m    334\u001b[0m     \u001b[39m\"\"\"Connection factory method, accessible through `hsfs.connection()`.\"\"\"\u001b[39;00m\n\u001b[1;32m--> 335\u001b[0m     \u001b[39mreturn\u001b[39;00m \u001b[39mcls\u001b[39;49m(\n\u001b[0;32m    336\u001b[0m         host,\n\u001b[0;32m    337\u001b[0m         port,\n\u001b[0;32m    338\u001b[0m         project,\n\u001b[0;32m    339\u001b[0m         engine,\n\u001b[0;32m    340\u001b[0m         region_name,\n\u001b[0;32m    341\u001b[0m         secrets_store,\n\u001b[0;32m    342\u001b[0m         hostname_verification,\n\u001b[0;32m    343\u001b[0m         trust_store_path,\n\u001b[0;32m    344\u001b[0m         cert_folder,\n\u001b[0;32m    345\u001b[0m         api_key_file,\n\u001b[0;32m    346\u001b[0m         api_key_value,\n\u001b[0;32m    347\u001b[0m     )\n",
      "File \u001b[1;32me:\\Anaconda\\lib\\site-packages\\hsfs\\connection.py:147\u001b[0m, in \u001b[0;36mConnection.__init__\u001b[1;34m(self, host, port, project, engine, region_name, secrets_store, hostname_verification, trust_store_path, cert_folder, api_key_file, api_key_value)\u001b[0m\n\u001b[0;32m    144\u001b[0m \u001b[39mself\u001b[39m\u001b[39m.\u001b[39m_api_key_value \u001b[39m=\u001b[39m api_key_value\n\u001b[0;32m    145\u001b[0m \u001b[39mself\u001b[39m\u001b[39m.\u001b[39m_connected \u001b[39m=\u001b[39m \u001b[39mFalse\u001b[39;00m\n\u001b[1;32m--> 147\u001b[0m \u001b[39mself\u001b[39;49m\u001b[39m.\u001b[39;49mconnect()\n",
      "File \u001b[1;32me:\\Anaconda\\lib\\site-packages\\hsfs\\decorators.py:25\u001b[0m, in \u001b[0;36mnot_connected.<locals>.if_not_connected\u001b[1;34m(inst, *args, **kwargs)\u001b[0m\n\u001b[0;32m     23\u001b[0m \u001b[39mif\u001b[39;00m inst\u001b[39m.\u001b[39m_connected:\n\u001b[0;32m     24\u001b[0m     \u001b[39mraise\u001b[39;00m HopsworksConnectionError\n\u001b[1;32m---> 25\u001b[0m \u001b[39mreturn\u001b[39;00m fn(inst, \u001b[39m*\u001b[39margs, \u001b[39m*\u001b[39m\u001b[39m*\u001b[39mkwargs)\n",
      "File \u001b[1;32me:\\Anaconda\\lib\\site-packages\\hsfs\\connection.py:238\u001b[0m, in \u001b[0;36mConnection.connect\u001b[1;34m(self)\u001b[0m\n\u001b[0;32m    235\u001b[0m     client\u001b[39m.\u001b[39minit(\u001b[39m\"\u001b[39m\u001b[39mhopsworks\u001b[39m\u001b[39m\"\u001b[39m)\n\u001b[0;32m    237\u001b[0m \u001b[39m# init engine\u001b[39;00m\n\u001b[1;32m--> 238\u001b[0m engine\u001b[39m.\u001b[39;49minit(\u001b[39mself\u001b[39;49m\u001b[39m.\u001b[39;49m_engine)\n\u001b[0;32m    240\u001b[0m \u001b[39mself\u001b[39m\u001b[39m.\u001b[39m_feature_store_api \u001b[39m=\u001b[39m feature_store_api\u001b[39m.\u001b[39mFeatureStoreApi()\n\u001b[0;32m    241\u001b[0m \u001b[39mself\u001b[39m\u001b[39m.\u001b[39m_project_api \u001b[39m=\u001b[39m project_api\u001b[39m.\u001b[39mProjectApi()\n",
      "File \u001b[1;32me:\\Anaconda\\lib\\site-packages\\hsfs\\engine\\__init__.py:35\u001b[0m, in \u001b[0;36minit\u001b[1;34m(engine_type)\u001b[0m\n\u001b[0;32m     33\u001b[0m     \u001b[39mfrom\u001b[39;00m \u001b[39mhsfs\u001b[39;00m\u001b[39m.\u001b[39;00m\u001b[39mengine\u001b[39;00m \u001b[39mimport\u001b[39;00m python\n\u001b[0;32m     34\u001b[0m \u001b[39mexcept\u001b[39;00m \u001b[39mImportError\u001b[39;00m:\n\u001b[1;32m---> 35\u001b[0m     \u001b[39mraise\u001b[39;00m exceptions\u001b[39m.\u001b[39mFeatureStoreException(\n\u001b[0;32m     36\u001b[0m         \u001b[39m\"\u001b[39m\u001b[39mTrying to instantiate Python as engine, but \u001b[39m\u001b[39m'\u001b[39m\u001b[39mpython\u001b[39m\u001b[39m'\u001b[39m\u001b[39m extras are \u001b[39m\u001b[39m\"\u001b[39m\n\u001b[0;32m     37\u001b[0m         \u001b[39m\"\u001b[39m\u001b[39mmissing in HSFS installation. Install with `pip install \u001b[39m\u001b[39m\"\u001b[39m\n\u001b[0;32m     38\u001b[0m         \u001b[39m\"\u001b[39m\u001b[39mhsfs[python]`.\u001b[39m\u001b[39m\"\u001b[39m\n\u001b[0;32m     39\u001b[0m     )\n\u001b[0;32m     40\u001b[0m _engine_type \u001b[39m=\u001b[39m \u001b[39m\"\u001b[39m\u001b[39mpython\u001b[39m\u001b[39m\"\u001b[39m\n\u001b[0;32m     41\u001b[0m _engine \u001b[39m=\u001b[39m python\u001b[39m.\u001b[39mEngine()\n",
      "\u001b[1;31mFeatureStoreException\u001b[0m: Trying to instantiate Python as engine, but 'python' extras are missing in HSFS installation. Install with `pip install hsfs[python]`."
     ]
    }
   ],
   "source": [
    "fs = project.get_feature_store()"
   ]
  },
  {
   "cell_type": "code",
   "execution_count": null,
   "metadata": {},
   "outputs": [],
   "source": [
    "import hsfs\n",
    "conn = hsfs.connection(\n",
    "    host=' https://c.app.hopsworks.ai',                 # DNS of your Feature Store instance\n",
    "    port=443,                           # Port to reach your Hopsworks instance, defaults to 443\n",
    "    project='MlopsLearning',               # Name of your Hopsworks Feature Store project\n",
    "    api_key_value='Opj3Q11E9l2J6Gl5.cWuMNUBKBrRs7L966VMGIf2DMgrm753CJhZ93RxMTuW93a9fvC9fHzytjl3bnkME',             # The API key to authenticate with Hopsworks\n",
    "    hostname_verification=True          # Disable for self-signed certificates\n",
    ")\n",
    "fs = conn.get_feature_store() "
   ]
  },
  {
   "cell_type": "code",
   "execution_count": 4,
   "metadata": {},
   "outputs": [
    {
     "ename": "FeatureStoreException",
     "evalue": "Trying to instantiate Python as engine, but 'python' extras are missing in HSFS installation. Install with `pip install hsfs[python]`.",
     "output_type": "error",
     "traceback": [
      "\u001b[1;31m---------------------------------------------------------------------------\u001b[0m",
      "\u001b[1;31mImportError\u001b[0m                               Traceback (most recent call last)",
      "File \u001b[1;32me:\\Anaconda\\lib\\site-packages\\hsfs\\engine\\__init__.py:33\u001b[0m, in \u001b[0;36minit\u001b[1;34m(engine_type)\u001b[0m\n\u001b[0;32m     32\u001b[0m \u001b[39mtry\u001b[39;00m:\n\u001b[1;32m---> 33\u001b[0m     \u001b[39mfrom\u001b[39;00m \u001b[39mhsfs\u001b[39;00m\u001b[39m.\u001b[39;00m\u001b[39mengine\u001b[39;00m \u001b[39mimport\u001b[39;00m python\n\u001b[0;32m     34\u001b[0m \u001b[39mexcept\u001b[39;00m \u001b[39mImportError\u001b[39;00m:\n",
      "File \u001b[1;32me:\\Anaconda\\lib\\site-packages\\hsfs\\engine\\python.py:41\u001b[0m, in \u001b[0;36m<module>\u001b[1;34m\u001b[0m\n\u001b[0;32m     40\u001b[0m \u001b[39mfrom\u001b[39;00m \u001b[39mtyping\u001b[39;00m \u001b[39mimport\u001b[39;00m TypeVar, Optional, Dict, Any\n\u001b[1;32m---> 41\u001b[0m \u001b[39mfrom\u001b[39;00m \u001b[39mconfluent_kafka\u001b[39;00m \u001b[39mimport\u001b[39;00m Producer, KafkaError\n\u001b[0;32m     42\u001b[0m \u001b[39mfrom\u001b[39;00m \u001b[39mtqdm\u001b[39;00m\u001b[39m.\u001b[39;00m\u001b[39mauto\u001b[39;00m \u001b[39mimport\u001b[39;00m tqdm\n",
      "File \u001b[1;32me:\\Anaconda\\lib\\site-packages\\confluent_kafka\\__init__.py:40\u001b[0m, in \u001b[0;36m<module>\u001b[1;34m\u001b[0m\n\u001b[0;32m     20\u001b[0m \u001b[39m# end delvewheel patch\u001b[39;00m\n\u001b[0;32m     21\u001b[0m \n\u001b[0;32m     22\u001b[0m \u001b[39m#!/usr/bin/env python\u001b[39;00m\n\u001b[1;32m   (...)\u001b[0m\n\u001b[0;32m     37\u001b[0m \u001b[39m# limitations under the License.\u001b[39;00m\n\u001b[0;32m     38\u001b[0m \u001b[39m#\u001b[39;00m\n\u001b[1;32m---> 40\u001b[0m \u001b[39mfrom\u001b[39;00m \u001b[39m.\u001b[39;00m\u001b[39mdeserializing_consumer\u001b[39;00m \u001b[39mimport\u001b[39;00m DeserializingConsumer\n\u001b[0;32m     41\u001b[0m \u001b[39mfrom\u001b[39;00m \u001b[39m.\u001b[39;00m\u001b[39mserializing_producer\u001b[39;00m \u001b[39mimport\u001b[39;00m SerializingProducer\n",
      "File \u001b[1;32me:\\Anaconda\\lib\\site-packages\\confluent_kafka\\deserializing_consumer.py:19\u001b[0m, in \u001b[0;36m<module>\u001b[1;34m\u001b[0m\n\u001b[0;32m      1\u001b[0m \u001b[39m#!/usr/bin/env python\u001b[39;00m\n\u001b[0;32m      2\u001b[0m \u001b[39m# -*- coding: utf-8 -*-\u001b[39;00m\n\u001b[0;32m      3\u001b[0m \u001b[39m#\u001b[39;00m\n\u001b[1;32m   (...)\u001b[0m\n\u001b[0;32m     16\u001b[0m \u001b[39m# limitations under the License.\u001b[39;00m\n\u001b[0;32m     17\u001b[0m \u001b[39m#\u001b[39;00m\n\u001b[1;32m---> 19\u001b[0m \u001b[39mfrom\u001b[39;00m \u001b[39mconfluent_kafka\u001b[39;00m\u001b[39m.\u001b[39;00m\u001b[39mcimpl\u001b[39;00m \u001b[39mimport\u001b[39;00m Consumer \u001b[39mas\u001b[39;00m _ConsumerImpl\n\u001b[0;32m     20\u001b[0m \u001b[39mfrom\u001b[39;00m \u001b[39m.\u001b[39;00m\u001b[39merror\u001b[39;00m \u001b[39mimport\u001b[39;00m (ConsumeError,\n\u001b[0;32m     21\u001b[0m                     KeyDeserializationError,\n\u001b[0;32m     22\u001b[0m                     ValueDeserializationError)\n",
      "\u001b[1;31mImportError\u001b[0m: DLL load failed while importing cimpl: The specified module could not be found.",
      "\nDuring handling of the above exception, another exception occurred:\n",
      "\u001b[1;31mFeatureStoreException\u001b[0m                     Traceback (most recent call last)",
      "\u001b[1;32mf:\\Github\\Physician_Conversion_model\\physician_conversion_model\\tasks\\notebooks\\feature_store.ipynb Cell 5\u001b[0m line \u001b[0;36m<cell line: 3>\u001b[1;34m()\u001b[0m\n\u001b[0;32m      <a href='vscode-notebook-cell:/f%3A/Github/Physician_Conversion_model/physician_conversion_model/tasks/notebooks/feature_store.ipynb#W4sZmlsZQ%3D%3D?line=0'>1</a>\u001b[0m \u001b[39mimport\u001b[39;00m \u001b[39mhsfs\u001b[39;00m\n\u001b[1;32m----> <a href='vscode-notebook-cell:/f%3A/Github/Physician_Conversion_model/physician_conversion_model/tasks/notebooks/feature_store.ipynb#W4sZmlsZQ%3D%3D?line=2'>3</a>\u001b[0m connection \u001b[39m=\u001b[39m hsfs\u001b[39m.\u001b[39;49mconnection()\n\u001b[0;32m      <a href='vscode-notebook-cell:/f%3A/Github/Physician_Conversion_model/physician_conversion_model/tasks/notebooks/feature_store.ipynb#W4sZmlsZQ%3D%3D?line=3'>4</a>\u001b[0m fs \u001b[39m=\u001b[39m connection\u001b[39m.\u001b[39mget_feature_store()\n",
      "File \u001b[1;32me:\\Anaconda\\lib\\site-packages\\hsfs\\connection.py:335\u001b[0m, in \u001b[0;36mConnection.connection\u001b[1;34m(cls, host, port, project, engine, region_name, secrets_store, hostname_verification, trust_store_path, cert_folder, api_key_file, api_key_value)\u001b[0m\n\u001b[0;32m    319\u001b[0m \u001b[39m@classmethod\u001b[39m\n\u001b[0;32m    320\u001b[0m \u001b[39mdef\u001b[39;00m \u001b[39mconnection\u001b[39m(\n\u001b[0;32m    321\u001b[0m     \u001b[39mcls\u001b[39m,\n\u001b[1;32m   (...)\u001b[0m\n\u001b[0;32m    332\u001b[0m     api_key_value: \u001b[39mstr\u001b[39m \u001b[39m=\u001b[39m \u001b[39mNone\u001b[39;00m,\n\u001b[0;32m    333\u001b[0m ):\n\u001b[0;32m    334\u001b[0m     \u001b[39m\"\"\"Connection factory method, accessible through `hsfs.connection()`.\"\"\"\u001b[39;00m\n\u001b[1;32m--> 335\u001b[0m     \u001b[39mreturn\u001b[39;00m \u001b[39mcls\u001b[39;49m(\n\u001b[0;32m    336\u001b[0m         host,\n\u001b[0;32m    337\u001b[0m         port,\n\u001b[0;32m    338\u001b[0m         project,\n\u001b[0;32m    339\u001b[0m         engine,\n\u001b[0;32m    340\u001b[0m         region_name,\n\u001b[0;32m    341\u001b[0m         secrets_store,\n\u001b[0;32m    342\u001b[0m         hostname_verification,\n\u001b[0;32m    343\u001b[0m         trust_store_path,\n\u001b[0;32m    344\u001b[0m         cert_folder,\n\u001b[0;32m    345\u001b[0m         api_key_file,\n\u001b[0;32m    346\u001b[0m         api_key_value,\n\u001b[0;32m    347\u001b[0m     )\n",
      "File \u001b[1;32me:\\Anaconda\\lib\\site-packages\\hsfs\\connection.py:147\u001b[0m, in \u001b[0;36mConnection.__init__\u001b[1;34m(self, host, port, project, engine, region_name, secrets_store, hostname_verification, trust_store_path, cert_folder, api_key_file, api_key_value)\u001b[0m\n\u001b[0;32m    144\u001b[0m \u001b[39mself\u001b[39m\u001b[39m.\u001b[39m_api_key_value \u001b[39m=\u001b[39m api_key_value\n\u001b[0;32m    145\u001b[0m \u001b[39mself\u001b[39m\u001b[39m.\u001b[39m_connected \u001b[39m=\u001b[39m \u001b[39mFalse\u001b[39;00m\n\u001b[1;32m--> 147\u001b[0m \u001b[39mself\u001b[39;49m\u001b[39m.\u001b[39;49mconnect()\n",
      "File \u001b[1;32me:\\Anaconda\\lib\\site-packages\\hsfs\\decorators.py:25\u001b[0m, in \u001b[0;36mnot_connected.<locals>.if_not_connected\u001b[1;34m(inst, *args, **kwargs)\u001b[0m\n\u001b[0;32m     23\u001b[0m \u001b[39mif\u001b[39;00m inst\u001b[39m.\u001b[39m_connected:\n\u001b[0;32m     24\u001b[0m     \u001b[39mraise\u001b[39;00m HopsworksConnectionError\n\u001b[1;32m---> 25\u001b[0m \u001b[39mreturn\u001b[39;00m fn(inst, \u001b[39m*\u001b[39margs, \u001b[39m*\u001b[39m\u001b[39m*\u001b[39mkwargs)\n",
      "File \u001b[1;32me:\\Anaconda\\lib\\site-packages\\hsfs\\connection.py:238\u001b[0m, in \u001b[0;36mConnection.connect\u001b[1;34m(self)\u001b[0m\n\u001b[0;32m    235\u001b[0m     client\u001b[39m.\u001b[39minit(\u001b[39m\"\u001b[39m\u001b[39mhopsworks\u001b[39m\u001b[39m\"\u001b[39m)\n\u001b[0;32m    237\u001b[0m \u001b[39m# init engine\u001b[39;00m\n\u001b[1;32m--> 238\u001b[0m engine\u001b[39m.\u001b[39;49minit(\u001b[39mself\u001b[39;49m\u001b[39m.\u001b[39;49m_engine)\n\u001b[0;32m    240\u001b[0m \u001b[39mself\u001b[39m\u001b[39m.\u001b[39m_feature_store_api \u001b[39m=\u001b[39m feature_store_api\u001b[39m.\u001b[39mFeatureStoreApi()\n\u001b[0;32m    241\u001b[0m \u001b[39mself\u001b[39m\u001b[39m.\u001b[39m_project_api \u001b[39m=\u001b[39m project_api\u001b[39m.\u001b[39mProjectApi()\n",
      "File \u001b[1;32me:\\Anaconda\\lib\\site-packages\\hsfs\\engine\\__init__.py:35\u001b[0m, in \u001b[0;36minit\u001b[1;34m(engine_type)\u001b[0m\n\u001b[0;32m     33\u001b[0m     \u001b[39mfrom\u001b[39;00m \u001b[39mhsfs\u001b[39;00m\u001b[39m.\u001b[39;00m\u001b[39mengine\u001b[39;00m \u001b[39mimport\u001b[39;00m python\n\u001b[0;32m     34\u001b[0m \u001b[39mexcept\u001b[39;00m \u001b[39mImportError\u001b[39;00m:\n\u001b[1;32m---> 35\u001b[0m     \u001b[39mraise\u001b[39;00m exceptions\u001b[39m.\u001b[39mFeatureStoreException(\n\u001b[0;32m     36\u001b[0m         \u001b[39m\"\u001b[39m\u001b[39mTrying to instantiate Python as engine, but \u001b[39m\u001b[39m'\u001b[39m\u001b[39mpython\u001b[39m\u001b[39m'\u001b[39m\u001b[39m extras are \u001b[39m\u001b[39m\"\u001b[39m\n\u001b[0;32m     37\u001b[0m         \u001b[39m\"\u001b[39m\u001b[39mmissing in HSFS installation. Install with `pip install \u001b[39m\u001b[39m\"\u001b[39m\n\u001b[0;32m     38\u001b[0m         \u001b[39m\"\u001b[39m\u001b[39mhsfs[python]`.\u001b[39m\u001b[39m\"\u001b[39m\n\u001b[0;32m     39\u001b[0m     )\n\u001b[0;32m     40\u001b[0m _engine_type \u001b[39m=\u001b[39m \u001b[39m\"\u001b[39m\u001b[39mpython\u001b[39m\u001b[39m\"\u001b[39m\n\u001b[0;32m     41\u001b[0m _engine \u001b[39m=\u001b[39m python\u001b[39m.\u001b[39mEngine()\n",
      "\u001b[1;31mFeatureStoreException\u001b[0m: Trying to instantiate Python as engine, but 'python' extras are missing in HSFS installation. Install with `pip install hsfs[python]`."
     ]
    }
   ],
   "source": [
    "import hsfs\n",
    "\n",
    "connection = hsfs.connection()\n",
    "fs = connection.get_feature_store()"
   ]
  },
  {
   "cell_type": "code",
   "execution_count": null,
   "metadata": {},
   "outputs": [],
   "source": []
  }
 ],
 "metadata": {
  "kernelspec": {
   "display_name": "base",
   "language": "python",
   "name": "python3"
  },
  "language_info": {
   "codemirror_mode": {
    "name": "ipython",
    "version": 3
   },
   "file_extension": ".py",
   "mimetype": "text/x-python",
   "name": "python",
   "nbconvert_exporter": "python",
   "pygments_lexer": "ipython3",
   "version": "3.9.12"
  },
  "orig_nbformat": 4
 },
 "nbformat": 4,
 "nbformat_minor": 2
}
